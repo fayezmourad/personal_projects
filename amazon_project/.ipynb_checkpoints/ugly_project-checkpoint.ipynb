{
 "cells": [
  {
   "cell_type": "markdown",
   "metadata": {},
   "source": [
    "# Data science project\n",
    "Adrian Pace Fayez Mourad\n",
    "\n"
   ]
  },
  {
   "cell_type": "markdown",
   "metadata": {},
   "source": [
    "## Initialization"
   ]
  },
  {
   "cell_type": "markdown",
   "metadata": {},
   "source": [
    "#### Necessary imports"
   ]
  },
  {
   "cell_type": "code",
   "execution_count": 1,
   "metadata": {
    "collapsed": true
   },
   "outputs": [],
   "source": [
    "# General\n",
    "import pandas as pd\n",
    "import numpy as np\n",
    "import time\n",
    "from scipy.sparse import hstack,csr_matrix\n",
    "# Our custom methods\n",
    "from src.CV import *\n",
    "from src.classifiers import *\n",
    "from src.preprocessing import *\n",
    "# Vectorizing\n",
    "from sklearn.feature_extraction.text import TfidfVectorizer\n",
    "# Preprocessing\n",
    "from sklearn.model_selection import train_test_split\n",
    "from sklearn import preprocessing\n",
    "# Feature reduction\n",
    "from sklearn.feature_selection import SelectKBest\n",
    "# Dummy classifiers\n",
    "from sklearn.dummy import DummyClassifier\n",
    "from sklearn.dummy import DummyRegressor\n",
    "# Classifiers\n",
    "from sklearn.tree import DecisionTreeClassifier\n",
    "from sklearn.neighbors import KNeighborsClassifier\n",
    "from sklearn.linear_model import LogisticRegression\n",
    "from sklearn.svm import SVC\n",
    "# Regressors\n",
    "from sklearn.linear_model import LinearRegression\n",
    "from sklearn.linear_model import Ridge\n",
    "# Metrics\n",
    "from sklearn.model_selection import cross_val_score\n",
    "from sklearn.metrics import accuracy_score\n",
    "from sklearn.metrics import mean_absolute_error\n",
    "\n",
    "# Auto reload our files if modified\n",
    "%load_ext autoreload\n",
    "%autoreload 2\n",
    "%matplotlib inline\n"
   ]
  },
  {
   "cell_type": "code",
   "execution_count": 2,
   "metadata": {
    "collapsed": true
   },
   "outputs": [],
   "source": [
    "negativeword_file=open('negative_words.txt')\n",
    "NEGATIVEWORDS=negativeword_file.read().split()\n",
    "\n",
    "positiveword_file=open('positive_words.txt')\n",
    "POSITIVEWORDS=positiveword_file.read().split()\n",
    "\n",
    "negationword_file=open('negation_words.txt')\n",
    "NEGATIONWORDS=negationword_file.read().split()"
   ]
  },
  {
   "cell_type": "markdown",
   "metadata": {},
   "source": [
    "## Separated Files moved inside the notebook"
   ]
  },
  {
   "cell_type": "code",
   "execution_count": 3,
   "metadata": {
    "collapsed": true
   },
   "outputs": [],
   "source": [
    "# CV.py\n",
    "\n",
    "import time\n",
    "import numpy as np\n",
    "\n",
    "from sklearn.model_selection import GridSearchCV\n",
    "from sklearn.metrics import accuracy_score\n",
    "from src.plots import plot_validation_curve, plot_2D_validation\n",
    "from sklearn.model_selection import KFold\n",
    "import warnings\n",
    "\n",
    "\n",
    "def parameter_search(estimator, param_grid, X_train, y_train, cv=5, scoring='accuracy', verbose=2, save_file=None,\n",
    "                     n_jobs=-1):\n",
    "    \"\"\"\n",
    "    Search a parameter with GridSearchCV. Supports 1D (plot) and 2D (seaborn heatmap) \n",
    "    :param estimator: \n",
    "    :param param_grid: Dictionary {parameter_name : parameter_array}\n",
    "    :param X_train: \n",
    "    :param y_train: \n",
    "    :param cv: \n",
    "    :param scoring: \n",
    "    :param verbose: \n",
    "    :return: \n",
    "    \"\"\"\n",
    "    start = time.time()\n",
    "    param_name = []\n",
    "    param_range = []\n",
    "    # Get the parameters name and range for the plot\n",
    "    for key in param_grid:\n",
    "        param_name.append(key)\n",
    "        param_range.append(param_grid[key])\n",
    "\n",
    "    gsCV = GridSearchCV(estimator, param_grid, cv=cv, scoring=scoring, verbose=verbose, n_jobs=n_jobs)\n",
    "    gsCV.fit(X_train, y_train)\n",
    "    val_scores_mean = gsCV.cv_results_['mean_test_score']\n",
    "    val_scores_std = gsCV.cv_results_['std_test_score']\n",
    "    train_scores_mean = gsCV.cv_results_['mean_train_score']\n",
    "    train_scores_std = gsCV.cv_results_['std_train_score']\n",
    "\n",
    "    if len(param_grid) == 1:\n",
    "        plot_validation_curve(param_name[0], param_range[0], train_scores_mean, val_scores_mean, train_scores_std,\n",
    "                              val_scores_std, scoring, save_file=save_file)\n",
    "    else:\n",
    "        plot_2D_validation(param_range, param_name, val_scores_mean, save_file=save_file)\n",
    "    print(\"Best {} =\".format(param_name), gsCV.best_params_, \"with score :\", gsCV.best_score_)\n",
    "\n",
    "    end = time.time()\n",
    "    print(\"Execution time : {} seconds\".format(end - start))\n",
    "\n",
    "    return gsCV\n",
    "\n",
    "\n",
    "def parameter_search_feature_selection(estimator, feature_selector, param_name, param_range, X, y, cv=5,\n",
    "                                       scoring='accuracy', random_state=None, save_file=None):\n",
    "    \"\"\"\n",
    "    Parameter search for the feature selection\n",
    "    :param estimator: \n",
    "    :param feature_selector: \n",
    "    :param param_name: \n",
    "    :param param_range: \n",
    "    :param X: \n",
    "    :param y: \n",
    "    :param cv: \n",
    "    :param scoring: supports only accuracy for the moment\n",
    "    :param random_state: \n",
    "    :return: \n",
    "    \"\"\"\n",
    "    warnings.filterwarnings('ignore')\n",
    "    start = time.time()\n",
    "    if scoring == 'accuracy':\n",
    "        score_func = accuracy_score\n",
    "    else:\n",
    "        # Need to modify the score func and plot_validation_curve function\n",
    "        raise Exception('Scoring functions other than accuracy are undefined')\n",
    "\n",
    "    val_scores = np.zeros((len(param_range), cv))\n",
    "    train_scores = np.zeros((len(param_range), cv))\n",
    "\n",
    "    kf = KFold(n_splits=cv, shuffle=True, random_state=random_state)\n",
    "    cv_counter = 0\n",
    "    for k_idx, k in enumerate(param_range):\n",
    "        cv_counter = 0\n",
    "        for train, test in kf.split(X):\n",
    "            X_train, X_test, y_train, y_test = X[train], X[test], y[train], y[test]\n",
    "            feature_selector.set_params(**{param_name: k})\n",
    "            X_train_reduced = feature_selector.fit_transform(X_train, y_train)\n",
    "            X_test_reduced = feature_selector.transform(X_test)\n",
    "            # Trying it\n",
    "            estimator.fit(X_train_reduced, y_train)\n",
    "            y_pred_test = estimator.predict(X_test_reduced)\n",
    "            y_pred_train = estimator.predict(X_train_reduced)\n",
    "            val_scores[k_idx, cv_counter] = score_func(y_test, y_pred_test)\n",
    "            train_scores[k_idx, cv_counter] = score_func(y_train, y_pred_train)\n",
    "\n",
    "            cv_counter += 1\n",
    "    val_mean = np.mean(val_scores, axis=1)\n",
    "\n",
    "    plot_validation_curve(param_name, param_range, np.mean(train_scores, axis=1), val_mean,\n",
    "                          np.std(train_scores, axis=1), np.std(val_scores, axis=1), scoring=scoring,\n",
    "                          save_file=save_file)\n",
    "\n",
    "    idx_max = np.argmax(val_mean)\n",
    "\n",
    "    print(\"Best {} =\".format(param_name), param_range[idx_max], \"with score :\", val_mean[idx_max])\n",
    "\n",
    "    end = time.time()\n",
    "\n",
    "    print(\"Execution time : {} seconds\".format(end - start))\n"
   ]
  },
  {
   "cell_type": "code",
   "execution_count": 4,
   "metadata": {
    "collapsed": true
   },
   "outputs": [],
   "source": [
    "# plots.py\n",
    "\n",
    "# Inspired by the examples of the course\n",
    "\n",
    "import matplotlib.pyplot as plt\n",
    "import numpy as np\n",
    "import pandas as pd\n",
    "import seaborn as sns\n",
    "\n",
    "\n",
    "def plot_validation_curve(param_name, param_range, train_scores_mean, val_scores_mean, train_scores_std=None, val_scores_std=None,\n",
    "                          scoring='accuracy',save_file=None):\n",
    "    \"\"\"\n",
    "    Plot the CV scores \n",
    "    :param param_name: \n",
    "    :param param_range: \n",
    "    :param train_scores_mean: \n",
    "    :param val_scores_mean: \n",
    "    :param train_scores_std: \n",
    "    :param val_scores_std: \n",
    "    :param scoring: \n",
    "    :return: \n",
    "    \"\"\"\n",
    "    # plot training errors and test errors as a function of alpha parameter to tune the model\n",
    "    # and obtain optimum value of alpha\n",
    "    plt.title(\"Validation curve on TRAINING SET\")\n",
    "    plt.xlabel(param_name)\n",
    "    plt.ylabel(scoring)\n",
    "\n",
    "    lw = 2\n",
    "    plt.semilogx(param_range, train_scores_mean, label=\"training score\", color=\"darkorange\", lw=lw)\n",
    "    plt.semilogx(param_range, val_scores_mean, label=\"validation score\", color=\"navy\", lw=lw)\n",
    "    if train_scores_std != None and val_scores_std != None:\n",
    "\n",
    "        plt.fill_between(param_range, train_scores_mean - train_scores_std,\n",
    "                         train_scores_mean + train_scores_std, alpha=0.2,\n",
    "                         color=\"darkorange\", lw=lw)\n",
    "\n",
    "        plt.fill_between(param_range, val_scores_mean - val_scores_std,\n",
    "                         val_scores_mean + val_scores_std, alpha=0.1,\n",
    "                         color=\"navy\", lw=lw)\n",
    "    plt.legend(loc=\"best\")\n",
    "    \n",
    "    if not (save_file == None) :\n",
    "        plt.savefig(save_file)\n",
    "    plt.show()\n",
    "\n",
    "def plot_2D_validation(param_ranges, param_names, val_scores_mean,save_file=None):\n",
    "    \"\"\"\n",
    "    Plot a 2d Graph for 2 parameters(heatmap)\n",
    "    :param param_ranges: \n",
    "    :param param_names: \n",
    "    :param val_scores_mean: \n",
    "    :return: \n",
    "    \"\"\"\n",
    "    val_scores_mean_reshaped=np.reshape(val_scores_mean,(param_ranges[0].shape[0],param_ranges[1].shape[0]))\n",
    "    val_scores_df=pd.DataFrame(data=val_scores_mean_reshaped,index=param_ranges[0],columns=param_ranges[1])\n",
    "    ax = sns.heatmap(val_scores_df)\n",
    "    ax.set_ylabel(param_names[0])\n",
    "    ax.set_xlabel(param_names[1])\n",
    "    \n",
    "    if not (save_file == None) :\n",
    "        plt.savefig(save_file)\n",
    "    plt.show()\n",
    "        "
   ]
  },
  {
   "cell_type": "code",
   "execution_count": 5,
   "metadata": {
    "collapsed": true
   },
   "outputs": [],
   "source": [
    "# preprocessing.py\n",
    "\n",
    "# Inspired by the demos of the course\n",
    "\n",
    "import re\n",
    "from gensim.parsing.preprocessing import STOPWORDS\n",
    "from nltk.stem import WordNetLemmatizer\n",
    "import enchant\n",
    "import numpy as np\n",
    "from sklearn.feature_extraction.text import CountVectorizer\n",
    "\n",
    "\n",
    "def remove_specials_characters(documents):\n",
    "    \"\"\"\n",
    "    Remove special characters\n",
    "    :param documents: the documents from where we remove the characters\n",
    "    :return: the documents without the special characters\n",
    "    \"\"\"\n",
    "    documents_no_specials = []\n",
    "    for item in documents:\n",
    "        try:\n",
    "            documents_no_specials.append(\n",
    "                item.replace('\\r', ' ').replace('/n', ' ').replace('.', ' ').replace(',', ' ').replace('(', ' ') \\\n",
    "                    .replace(')', ' ').replace(\"'s\", ' ').replace('\"', ' ') \\\n",
    "                    .replace('!', ' ').replace('?', ' ').replace(\"'\", '') \\\n",
    "                    .replace('>', ' ').replace('$', ' ') \\\n",
    "                    .replace('-', ' ').replace(';', ' ') \\\n",
    "                    .replace(':', ' ').replace('/', ' ').replace('#', ' '))\n",
    "        except:\n",
    "            documents_no_specials.append(\"\")\n",
    "    return documents_no_specials\n",
    "\n",
    "\n",
    "def remove_numerical(documents):\n",
    "    \"\"\"\n",
    "    remove the words containing numbers\n",
    "    :param documents: \n",
    "    :return: \n",
    "    \"\"\"\n",
    "\n",
    "    def hasNumbers(inputString):\n",
    "        return bool(re.search(r'\\d', inputString))\n",
    "\n",
    "    documents_no_stop_no_numeric = [[token for token in text if not (hasNumbers(token))]\n",
    "                                    for text in documents]\n",
    "    return documents_no_stop_no_numeric\n",
    "\n",
    "\n",
    "def clean_text(documents, tester=0):\n",
    "    \"\"\"\n",
    "    remove special characters, stop words and numbers, lemmatize and remove non-english words \n",
    "    :param documents: Docuements to clean\n",
    "    :param tester: which element you would like to display as an example\n",
    "    :return: the cleaned documents\n",
    "    \"\"\"\n",
    "    # Some elements of the vectorization were inspired by the demos of the course\n",
    "\n",
    "    eng_dic = enchant.Dict(\"en_US\")\n",
    "    lemmatizer = WordNetLemmatizer()\n",
    "\n",
    "    # Remove special characters\n",
    "    documents_no_specials = remove_specials_characters(documents)\n",
    "    # remove stop words and tokenize\n",
    "    documents_no_stop = []\n",
    "    for document in documents_no_specials:\n",
    "        new_text = []\n",
    "        for word in document.lower().split():\n",
    "            if word not in STOPWORDS:\n",
    "                new_text.append(word)\n",
    "        documents_no_stop.append(new_text)\n",
    "\n",
    "    # Remove numbers\n",
    "    documents_no_stop_no_numeric = remove_numerical(documents_no_stop)\n",
    "\n",
    "    # lemmattizing tokens (better than stemming by taking word context into account)\n",
    "    documents_no_stop_no_numeric_lemmatize = [[lemmatizer.lemmatize(token) for token in text]\n",
    "                                              for text in documents_no_stop_no_numeric]\n",
    "\n",
    "    # remove non-english words\n",
    "    documents_no_stop_no_numeric_lemmatize_english = [[token for token in text if (eng_dic.check(token))]\n",
    "                                                      for text in documents_no_stop_no_numeric_lemmatize]\n",
    "\n",
    "    return [\" \".join(doc) for doc in documents_no_stop_no_numeric_lemmatize_english]\n",
    "\n",
    "\n",
    "def keepAdjectives(documents, NEGATIONWORDS, POSITIVEWORDS, NEGATIVEWORDS, negation_distance_threshold):\n",
    "    \"\"\"\n",
    "    Keep only the adjectives and count the positive and negative ones\n",
    "    :param documents: List of documents\n",
    "    :param NEGATIONWORDS: Negation words such as not, didn't, don't...\n",
    "    :param POSITIVEWORDS: Positive adjectives such as beautiful, great...\n",
    "    :param NEGATIVEWORDS: Negative adjectives such as bad, disgusting...\n",
    "    :param negation_distance_threshold: distance between a negation word and a adjective under which it is considered as\n",
    "     inverted ('not good' means 'bad')\n",
    "    :return: \n",
    "    \"\"\"\n",
    "    document_neg_pos = []\n",
    "    document_neg_count = np.zeros(documents.shape[0])\n",
    "    document_pos_count = np.zeros(documents.shape[0])\n",
    "    for idx, row in enumerate(documents):\n",
    "        review = []\n",
    "        new_word = \"\"\n",
    "        negation_distance = 0\n",
    "        for word in row.split(\" \"):\n",
    "            if len(new_word) != 1:\n",
    "                negation_distance += 1\n",
    "                if negation_distance > negation_distance_threshold:\n",
    "                    new_word = \"\"\n",
    "            if word in NEGATIONWORDS:\n",
    "                new_word = word\n",
    "                negation_distance = 0\n",
    "            elif word in POSITIVEWORDS:\n",
    "                if len(new_word) == 0:\n",
    "                    review.append(word)\n",
    "                    document_pos_count[idx] += 1\n",
    "                else:\n",
    "                    # print(idx)\n",
    "                    document_neg_count[idx] += 1\n",
    "                    new_word = new_word + word\n",
    "                    review.append(new_word)\n",
    "                    new_word = \"\"\n",
    "            elif word in NEGATIVEWORDS:\n",
    "                if len(new_word) == 0:\n",
    "                    review.append(word)\n",
    "                    document_neg_count[idx] += 1\n",
    "                else:\n",
    "                    # print(idx)\n",
    "                    document_pos_count[idx] += 1\n",
    "                    new_word = new_word + word\n",
    "                    review.append(new_word)\n",
    "                    new_word = \"\"\n",
    "        document_neg_pos.append(review)\n",
    "    return document_neg_pos, document_pos_count, document_neg_count\n",
    "\n",
    "\n",
    "def clean_filter_adj(df, summary_weight, negation_distance_threshold_review, negation_distance_threshold_summary,\n",
    "                     tester=0):\n",
    "    \"\"\"\n",
    "    remove special characters, stop words and numbers, lemmatize, remove non-english words and keep only the adjectives\n",
    "    :param df: dataframe containing the documents\n",
    "    :param summary_weight: how much more important is the summary compared to the review\n",
    "    :param negation_distance_threshold_review: For a review : distance between a negation word and a adjective under\n",
    "     which it is considered as inverted ('not good' means 'bad')\n",
    "    :param negation_distance_threshold_summary: For a summary : distance between a negation word and a adjective under \n",
    "    which it is considered as inverted ('not good' means 'bad')\n",
    "    :param tester: which element you would like to display as an example\n",
    "    :return: \n",
    "    \"\"\"\n",
    "    negativeword_file = open('negative_words.txt')\n",
    "    NEGATIVEWORDS = negativeword_file.read().split()\n",
    "    positiveword_file = open('positive_words.txt')\n",
    "    POSITIVEWORDS = positiveword_file.read().split()\n",
    "    negationword_file = open('negation_words.txt')\n",
    "    NEGATIONWORDS = negationword_file.read().split()\n",
    "    # Not Merging both reviewText and summary because summary is considered more important\n",
    "    documents = np.array(df['reviewText'])\n",
    "    summaries = np.array(df['summary'])\n",
    "\n",
    "    print('original test: ', documents[tester], '\\n')\n",
    "    print('summary test: ', summaries[tester], '\\n')\n",
    "\n",
    "    # create corpus (remove special characters, stop words and numbers, lemantize and remove non-english words)\n",
    "    df['reviewCleaned'] = clean_text(documents, tester)\n",
    "    df['summaryCleaned'] = clean_text(summaries, tester)\n",
    "\n",
    "    # Keep only adjectives and see how many are positive\n",
    "    documents_neg_pos, documents_pos_count, documents_neg_count = keepAdjectives(\n",
    "        df['reviewCleaned'], NEGATIONWORDS, POSITIVEWORDS, NEGATIVEWORDS, negation_distance_threshold_review)\n",
    "    print(\"Kept only adjectives pairs:\", documents_neg_pos[tester],\n",
    "          '\\nPositive count=', documents_pos_count[tester], 'Negative counts=', documents_neg_count[tester])\n",
    "    summaries_neg_pos, summaries_pos_count, summaries_neg_count = keepAdjectives(\n",
    "        df['summaryCleaned'], NEGATIONWORDS, POSITIVEWORDS, NEGATIVEWORDS, negation_distance_threshold_summary)\n",
    "    print(\"Kept only adjectives pairs:\", summaries_neg_pos[tester],\n",
    "          '\\nPositive count=', summaries_pos_count[tester], 'Negative counts=', summaries_neg_count[tester])\n",
    "\n",
    "    # Storing everything\n",
    "    df[\"reviewWorded\"] = [\" \".join(doc) for doc in documents_neg_pos]\n",
    "    df[\"summaryWorded\"] = [\" \".join(doc) for doc in summaries_neg_pos]\n",
    "    df['review_count_pos'] = documents_pos_count\n",
    "    df['review_count_neg'] = documents_neg_count\n",
    "    df['summary_count_pos'] = summaries_pos_count\n",
    "    df['summary_count_neg'] = summaries_neg_count\n",
    "    df['review_count_difference'] = df['review_count_pos'] - df['review_count_neg']\n",
    "    df['summary_count_difference'] = df['summary_count_pos'] - df['summary_count_neg']\n",
    "    df['total_count_difference'] = df['review_count_difference'] + summary_weight * df['summary_count_difference']\n",
    "\n",
    "    return df\n"
   ]
  },
  {
   "cell_type": "markdown",
   "metadata": {},
   "source": [
    "## Step 1"
   ]
  },
  {
   "cell_type": "markdown",
   "metadata": {},
   "source": [
    "### Constants"
   ]
  },
  {
   "cell_type": "code",
   "execution_count": 3,
   "metadata": {
    "collapsed": true
   },
   "outputs": [],
   "source": [
    "min_df=15\n",
    "max_df=0.4\n",
    "random_state=0\n",
    "tester = 1\n",
    "save_location='ouput_figs'"
   ]
  },
  {
   "cell_type": "markdown",
   "metadata": {},
   "source": [
    "### Data loading "
   ]
  },
  {
   "cell_type": "code",
   "execution_count": 4,
   "metadata": {
    "collapsed": true
   },
   "outputs": [],
   "source": [
    "df = pd.read_json(path_or_buf='amazon_step1.json',orient='records',lines=True)\n",
    "df.shape\n",
    "# Uncomment the following line to work with a smaller set\n",
    "# df = df.sample(10000,random_state=random_state)"
   ]
  },
  {
   "cell_type": "markdown",
   "metadata": {},
   "source": [
    "### Vectorizing the review text"
   ]
  },
  {
   "cell_type": "code",
   "execution_count": 5,
   "metadata": {
    "collapsed": true
   },
   "outputs": [],
   "source": [
    "# create corpus (remove special characters, stop words and numbers, lemantize and remove non-english words)\n",
    "documents = np.array(df['reviewText'])\n",
    "\n",
    "df['reviewCleaned'] = clean_text(documents)\n",
    "\n",
    "vectorizer = TfidfVectorizer(min_df=min_df)\n",
    "# fit vectorizer, carry out vectorization\n",
    "vectorizer.fit(df['reviewCleaned'])\n",
    "X = vectorizer.transform(df['reviewCleaned'])"
   ]
  },
  {
   "cell_type": "markdown",
   "metadata": {},
   "source": [
    "### Preprocessing"
   ]
  },
  {
   "cell_type": "code",
   "execution_count": 6,
   "metadata": {
    "collapsed": true
   },
   "outputs": [],
   "source": [
    "y=df['category'].as_matrix()\n",
    "categories=np.unique(y)\n",
    "X_train, X_test, y_train, y_test = train_test_split(X, y, test_size=0.2, random_state=random_state)"
   ]
  },
  {
   "cell_type": "markdown",
   "metadata": {},
   "source": [
    "#### Feature reduction"
   ]
  },
  {
   "cell_type": "code",
   "execution_count": 12,
   "metadata": {},
   "outputs": [
    {
     "data": {
      "image/png": "[encoded data removed]",
      "text/plain": [
       "<matplotlib.figure.Figure at 0x7fec8302b4a8>"
      ]
     },
     "metadata": {},
     "output_type": "display_data"
    },
    {
     "name": "stdout",
     "output_type": "stream",
     "text": [
      "Best k = 5011 with score : 0.717096354167\n",
      "Execution time : 1056.1312849521637 seconds\n"
     ]
    }
   ],
   "source": [
    "parameter_search_feature_selection(LogisticRegression(C=0.74438, n_jobs=-1),SelectKBest(),'k',np.logspace(2,3.7,10).astype(int),\n",
    "                                   X_train,y_train,random_state=random_state,save_file=save_location+'/slt_k_bst.png')"
   ]
  },
  {
   "cell_type": "markdown",
   "metadata": {},
   "source": [
    "As we can see there is no advantage in reducing the number of features"
   ]
  },
  {
   "cell_type": "markdown",
   "metadata": {},
   "source": [
    "### Classifying"
   ]
  },
  {
   "cell_type": "markdown",
   "metadata": {},
   "source": [
    "#### Dummy Classifier"
   ]
  },
  {
   "cell_type": "markdown",
   "metadata": {},
   "source": [
    "Baseline model : assign the categories randomly"
   ]
  },
  {
   "cell_type": "code",
   "execution_count": 23,
   "metadata": {},
   "outputs": [
    {
     "name": "stdout",
     "output_type": "stream",
     "text": [
      "accuracy: 0.04265625\n"
     ]
    }
   ],
   "source": [
    "dmy=DummyClassifier(random_state=random_state)\n",
    "dmy.fit(X_train,y_train)\n",
    "y_pred=dmy.predict(X_test)\n",
    "print(\"accuracy:\",accuracy_score(y_test,y_pred))"
   ]
  },
  {
   "cell_type": "markdown",
   "metadata": {},
   "source": [
    "#### Decision Trees\n",
    "\n",
    "Try various maximum depths for a classic decision tree classifier"
   ]
  },
  {
   "cell_type": "code",
   "execution_count": null,
   "metadata": {
    "scrolled": false
   },
   "outputs": [
    {
     "data": {
      "image/png": "[encoded data removed]",
      "text/plain": [
       "<matplotlib.figure.Figure at 0x7fec8462b278>"
      ]
     },
     "metadata": {},
     "output_type": "display_data"
    },
    {
     "name": "stdout",
     "output_type": "stream",
     "text": [
      "Best ['max_depth'] = {'max_depth': 351} with score : 0.505299479167\n",
      "Execution time : 3220.908516407013 seconds\n"
     ]
    },
    {
     "data": {
      "text/plain": [
       "GridSearchCV(cv=5, error_score='raise',\n",
       "       estimator=DecisionTreeClassifier(class_weight=None, criterion='gini', max_depth=None,\n",
       "            max_features=None, max_leaf_nodes=None,\n",
       "            min_impurity_split=1e-07, min_samples_leaf=1,\n",
       "            min_samples_split=2, min_weight_fraction_leaf=0.0,\n",
       "            presort=False, random_state=0, splitter='best'),\n",
       "       fit_params={}, iid=True, n_jobs=-1,\n",
       "       param_grid={'max_depth': range(1, 400, 10)},\n",
       "       pre_dispatch='2*n_jobs', refit=True, return_train_score=True,\n",
       "       scoring='accuracy', verbose=0)"
      ]
     },
     "execution_count": 14,
     "metadata": {},
     "output_type": "execute_result"
    }
   ],
   "source": [
    "parameter_search(DecisionTreeClassifier(random_state=random_state),\n",
    "                {'max_depth':range(1,400,10)},\n",
    "                X_train,\n",
    "                y_train,save_file=save_location+'/decision tree.png',verbose=0)"
   ]
  },
  {
   "cell_type": "markdown",
   "metadata": {},
   "source": [
    "#### KNN Neighbors"
   ]
  },
  {
   "cell_type": "markdown",
   "metadata": {},
   "source": [
    "Finding the optimal number of neighbors"
   ]
  },
  {
   "cell_type": "code",
   "execution_count": 7,
   "metadata": {
    "scrolled": false
   },
   "outputs": [
    {
     "name": "stderr",
     "output_type": "stream",
     "text": [
      "/home/adrikiri/project-pace-mourad/project/src/plots.py:31: FutureWarning: comparison to `None` will result in an elementwise object comparison in the future.\n",
      "  if train_scores_std != None and val_scores_std != None:\n",
      "/home/adrikiri/anaconda3/lib/python3.6/site-packages/matplotlib/font_manager.py:1297: UserWarning: findfont: Font family ['sans-serif'] not found. Falling back to DejaVu Sans\n",
      "  (prop.get_family(), self.defaultFamily[fontext]))\n"
     ]
    },
    {
     "data": {
      "image/png": "[encoded data removed]",
      "text/plain": [
       "<matplotlib.figure.Figure at 0x7fc3302e0390>"
      ]
     },
     "metadata": {},
     "output_type": "display_data"
    },
    {
     "name": "stdout",
     "output_type": "stream",
     "text": [
      "Best ['n_neighbors'] = {'n_neighbors': 43} with score : 0.5925\n",
      "Execution time : 34.199259519577026 seconds\n"
     ]
    },
    {
     "data": {
      "text/plain": [
       "GridSearchCV(cv=5, error_score='raise',\n",
       "       estimator=KNeighborsClassifier(algorithm='auto', leaf_size=30, metric='minkowski',\n",
       "           metric_params=None, n_jobs=1, n_neighbors=5, p=2,\n",
       "           weights='uniform'),\n",
       "       fit_params={}, iid=True, n_jobs=8,\n",
       "       param_grid={'n_neighbors': range(1, 50, 3)},\n",
       "       pre_dispatch='2*n_jobs', refit=True, return_train_score=True,\n",
       "       scoring='accuracy', verbose=0)"
      ]
     },
     "execution_count": 7,
     "metadata": {},
     "output_type": "execute_result"
    }
   ],
   "source": [
    "# Executed with only 10000 samples randomly chosen\n",
    "parameter_search(KNeighborsClassifier(),\n",
    "                {'n_neighbors':range(1,50,3)},\n",
    "                X_train,\n",
    "                y_train,save_file=save_location+'/knn.png',verbose=0,n_jobs=8)"
   ]
  },
  {
   "cell_type": "markdown",
   "metadata": {},
   "source": [
    "#### SVM\n",
    "\n",
    "Finding the best coefficient C"
   ]
  },
  {
   "cell_type": "code",
   "execution_count": 17,
   "metadata": {
    "scrolled": false
   },
   "outputs": [
    {
     "name": "stderr",
     "output_type": "stream",
     "text": [
      "/home/adrikiri/project-pace-mourad/project/src/plots.py:31: FutureWarning: comparison to `None` will result in an elementwise object comparison in the future.\n",
      "  if train_scores_std != None and val_scores_std != None:\n",
      "/home/adrikiri/anaconda3/lib/python3.6/site-packages/matplotlib/font_manager.py:1297: UserWarning: findfont: Font family ['sans-serif'] not found. Falling back to DejaVu Sans\n",
      "  (prop.get_family(), self.defaultFamily[fontext]))\n"
     ]
    },
    {
     "data": {
      "image/png": "[encoded data removed]",
      "text/plain": [
       "<matplotlib.figure.Figure at 0x7fad3b14c4e0>"
      ]
     },
     "metadata": {},
     "output_type": "display_data"
    },
    {
     "name": "stdout",
     "output_type": "stream",
     "text": [
      "Best ['C'] = {'C': 2424.4620170823259} with score : 0.626\n",
      "Execution time : 975.8379666805267 seconds\n"
     ]
    },
    {
     "data": {
      "text/plain": [
       "GridSearchCV(cv=5, error_score='raise',\n",
       "       estimator=SVC(C=1.0, cache_size=200, class_weight=None, coef0=0.0,\n",
       "  decision_function_shape=None, degree=3, gamma='auto', kernel='rbf',\n",
       "  max_iter=-1, probability=False, random_state=None, shrinking=True,\n",
       "  tol=0.001, verbose=False),\n",
       "       fit_params={}, iid=True, n_jobs=-1,\n",
       "       param_grid={'C': array([  1.00000e-02,   3.45511e-02,   1.19378e-01,   4.12463e-01,\n",
       "         1.42510e+00,   4.92388e+00,   1.70125e+01,   5.87802e+01,\n",
       "         2.03092e+02,   7.01704e+02,   2.42446e+03,   8.37678e+03,\n",
       "         2.89427e+04,   1.00000e+05])},\n",
       "       pre_dispatch='2*n_jobs', refit=True, return_train_score=True,\n",
       "       scoring='accuracy', verbose=0)"
      ]
     },
     "execution_count": 17,
     "metadata": {},
     "output_type": "execute_result"
    }
   ],
   "source": [
    "# Executed with only 50000 samples randomly chosen\n",
    "parameter_search(SVC(),\n",
    "                {'C':np.logspace(-2,5,14)},\n",
    "                X_train,\n",
    "                y_train,save_file=save_location+'/svm.png',verbose=0)"
   ]
  },
  {
   "cell_type": "markdown",
   "metadata": {},
   "source": [
    "#### Logistic Regression\n",
    "\n",
    "Finding the optimal penalty coefficient C"
   ]
  },
  {
   "cell_type": "code",
   "execution_count": 27,
   "metadata": {},
   "outputs": [
    {
     "name": "stderr",
     "output_type": "stream",
     "text": [
      "/home/adrikiri/project-pace-mourad/project/src/plots.py:31: FutureWarning: comparison to `None` will result in an elementwise object comparison in the future.\n",
      "  if train_scores_std != None and val_scores_std != None:\n",
      "/home/adrikiri/anaconda3/lib/python3.6/site-packages/matplotlib/font_manager.py:1297: UserWarning: findfont: Font family ['sans-serif'] not found. Falling back to DejaVu Sans\n",
      "  (prop.get_family(), self.defaultFamily[fontext]))\n"
     ]
    },
    {
     "data": {
      "image/png": "[encoded data removed]",
      "text/plain": [
       "<matplotlib.figure.Figure at 0x7fad3aa82a90>"
      ]
     },
     "metadata": {},
     "output_type": "display_data"
    },
    {
     "name": "stdout",
     "output_type": "stream",
     "text": [
      "Best ['C'] = {'C': 2.1544346900318843} with score : 0.729596354167\n",
      "Execution time : 1230.9943263530731 seconds\n"
     ]
    },
    {
     "data": {
      "text/plain": [
       "GridSearchCV(cv=5, error_score='raise',\n",
       "       estimator=LogisticRegression(C=1.0, class_weight=None, dual=False, fit_intercept=True,\n",
       "          intercept_scaling=1, max_iter=100, multi_class='ovr', n_jobs=1,\n",
       "          penalty='l2', random_state=None, solver='liblinear', tol=0.0001,\n",
       "          verbose=0, warm_start=False),\n",
       "       fit_params={}, iid=True, n_jobs=-1,\n",
       "       param_grid={'C': array([  1.00000e-03,   3.59381e-03,   1.29155e-02,   4.64159e-02,\n",
       "         1.66810e-01,   5.99484e-01,   2.15443e+00,   7.74264e+00,\n",
       "         2.78256e+01,   1.00000e+02])},\n",
       "       pre_dispatch='2*n_jobs', refit=True, return_train_score=True,\n",
       "       scoring='accuracy', verbose=0)"
      ]
     },
     "execution_count": 27,
     "metadata": {},
     "output_type": "execute_result"
    }
   ],
   "source": [
    "parameter_search(LogisticRegression(),\n",
    "                {'C':np.logspace(-3,2,10)},\n",
    "                X_train,\n",
    "                y_train, save_file=save_location+'/log_reg.png',verbose=0)"
   ]
  },
  {
   "cell_type": "markdown",
   "metadata": {},
   "source": [
    "If we pick a smaller range :"
   ]
  },
  {
   "cell_type": "code",
   "execution_count": 31,
   "metadata": {},
   "outputs": [
    {
     "name": "stderr",
     "output_type": "stream",
     "text": [
      "/home/adrikiri/project-pace-mourad/project/src/plots.py:31: FutureWarning: comparison to `None` will result in an elementwise object comparison in the future.\n",
      "  if train_scores_std != None and val_scores_std != None:\n",
      "/home/adrikiri/anaconda3/lib/python3.6/site-packages/matplotlib/font_manager.py:1297: UserWarning: findfont: Font family ['sans-serif'] not found. Falling back to DejaVu Sans\n",
      "  (prop.get_family(), self.defaultFamily[fontext]))\n"
     ]
    },
    {
     "data": {
      "image/png": "[encoded data removed]",
      "text/plain": [
       "<matplotlib.figure.Figure at 0x7fad33697358>"
      ]
     },
     "metadata": {},
     "output_type": "display_data"
    },
    {
     "name": "stdout",
     "output_type": "stream",
     "text": [
      "Best ['C'] = {'C': 2.7499999999999973} with score : 0.730247395833\n",
      "Execution time : 2552.3061652183533 seconds\n"
     ]
    },
    {
     "data": {
      "text/plain": [
       "GridSearchCV(cv=5, error_score='raise',\n",
       "       estimator=LogisticRegression(C=1.0, class_weight=None, dual=False, fit_intercept=True,\n",
       "          intercept_scaling=1, max_iter=100, multi_class='ovr', n_jobs=1,\n",
       "          penalty='l2', random_state=None, solver='liblinear', tol=0.0001,\n",
       "          verbose=0, warm_start=False),\n",
       "       fit_params={}, iid=True, n_jobs=-1,\n",
       "       param_grid={'C': array([ 2.  ,  2.05,  2.1 ,  2.15,  2.2 ,  2.25,  2.3 ,  2.35,  2.4 ,\n",
       "        2.45,  2.5 ,  2.55,  2.6 ,  2.65,  2.7 ,  2.75,  2.8 ,  2.85,\n",
       "        2.9 ,  2.95])},\n",
       "       pre_dispatch='2*n_jobs', refit=True, return_train_score=True,\n",
       "       scoring='accuracy', verbose=0)"
      ]
     },
     "execution_count": 31,
     "metadata": {},
     "output_type": "execute_result"
    }
   ],
   "source": [
    "parameter_search(LogisticRegression(),\n",
    "                {'C':np.arange(2,3,0.05)},\n",
    "                X_train,\n",
    "                y_train, save_file=save_location+'/log_reg_more accurate.png',verbose=0)"
   ]
  },
  {
   "cell_type": "code",
   "execution_count": 32,
   "metadata": {},
   "outputs": [
    {
     "name": "stdout",
     "output_type": "stream",
     "text": [
      "Accuracy :  0.736614583333\n"
     ]
    }
   ],
   "source": [
    "log_reg=LogisticRegression(C=2.75)\n",
    "log_reg.fit(X_train,y_train)\n",
    "y_pred=log_reg.predict(X_test)\n",
    "print(\"Accuracy : \",accuracy_score(y_test,y_pred))"
   ]
  },
  {
   "cell_type": "markdown",
   "metadata": {},
   "source": [
    "### Prediction of unseen data"
   ]
  },
  {
   "cell_type": "code",
   "execution_count": 40,
   "metadata": {
    "collapsed": true
   },
   "outputs": [],
   "source": [
    "# data loading\n",
    "df_unseen= pd.read_csv(filepath_or_buffer='amazon_step1_unseen.csv')\n",
    "original_columns=df_unseen.columns\n",
    "\n",
    "# create corpus (remove special characters, stop words and numbers, lemantize and remove non-english words)\n",
    "documents = np.array(df_unseen['reviewText'])\n",
    "df_unseen['reviewCleaned'] = clean_text(documents)\n",
    "\n",
    "# transform to vector\n",
    "X_unseen = vectorizer.transform(df_unseen['reviewCleaned'])\n",
    "\n",
    "clf=LogisticRegression(C=2.75)\n",
    "clf.fit(X,y)\n",
    "df_unseen['label']=clf.predict(X_unseen)\n",
    "df_unseen[original_columns].to_csv('amazon_step1_unseen.csv')"
   ]
  },
  {
   "cell_type": "markdown",
   "metadata": {
    "collapsed": true
   },
   "source": [
    "### Conclusion "
   ]
  },
  {
   "cell_type": "markdown",
   "metadata": {
    "collapsed": true
   },
   "source": [
    "As we can see the logistic regression offer us the best accuracy in predicting the category. There are 24 categories to choose from, and our classifier predict the good categories 7.37 times out of 10. Depending on the situtation this can be considered a relatively good prediction.\n",
    "\n",
    "We tried  keeping only nouns but we got a worse accuracy. This is probably because other words such as verbs are important (eg. 'wear' is more common in clothes than in cooking).\n",
    "\n",
    "We also tried predicting the categories according to the cosine similarity of the different reviews (we checked for each review which category would bring it closest to the documents of the category). However we were not able to make it work with sparse matrix and converting the data to a numpy array is not possible due to its size. When we ran it on a subset of samples, we got a relatively good accuracy, so it would be interesting to develop it further. (it's in the classifiers.py file)\n",
    "\n",
    "At first we did not think about using TF-IDF because we were afraid that important words in the category prediction process (such as the word 'book') would lose to much weigh. We however noticed an increase in accuracy when using it. One reason might be that we have a large number of categories (24), so important words for a category are not weighted down too much compared to the benefit of reducing the weight of words such as 'and','or', etc that are very common and irrelevant"
   ]
  },
  {
   "cell_type": "markdown",
   "metadata": {},
   "source": [
    "#### Possible ameliorations"
   ]
  },
  {
   "cell_type": "markdown",
   "metadata": {},
   "source": [
    "There are a number of things we additionaly try for example finding a good parameter for gamma in SVC. We could also have tried LDA, LSI and PCA. We should however be carefull as PCA is unsupervised so it will not necesserarly reduce the words to concepts that are relevant for our categories. We could also have tried more developped decision trees such as Random forest, bagging... If we had more computing power, we could have done an outer cross-validation between the train and test set instead of doing just a split. \n",
    "\n",
    "Finally with more time, we would have tried SVM on more sample and we would have observed the accuracy, probably better than logisitc regression"
   ]
  },
  {
   "cell_type": "markdown",
   "metadata": {
    "collapsed": true
   },
   "source": [
    "## Step 2"
   ]
  },
  {
   "cell_type": "markdown",
   "metadata": {},
   "source": [
    "In this step we will only look at adjectives. If there is a negation not too far before the adjective, the adjective is considered negative and the negation word is concatenated to the adjective (as if it is a new word). We also look at the summary and condider its words as twice as important because a user usually summarize the whole review in clear and relevant words into the summary."
   ]
  },
  {
   "cell_type": "markdown",
   "metadata": {},
   "source": [
    "### Constants"
   ]
  },
  {
   "cell_type": "code",
   "execution_count": 4,
   "metadata": {
    "collapsed": true
   },
   "outputs": [],
   "source": [
    "min_df=2\n",
    "summary_weight=2\n",
    "negation_distance_threshold_review=2\n",
    "negation_distance_threshold_summary=4\n",
    "save_location='ouput_figs2'\n",
    "random_state=0\n",
    "tester = 1"
   ]
  },
  {
   "cell_type": "markdown",
   "metadata": {},
   "source": [
    "### Data loading "
   ]
  },
  {
   "cell_type": "code",
   "execution_count": 16,
   "metadata": {
    "collapsed": true
   },
   "outputs": [],
   "source": [
    "df = pd.read_json(path_or_buf='amazon_step23.json',orient='records',lines=True)\n",
    "df.shape\n",
    "# Uncomment the following line to work with a smaller set \n",
    "df = df.sample(10000,random_state=random_state)"
   ]
  },
  {
   "cell_type": "markdown",
   "metadata": {},
   "source": [
    "### Vectorizing the review text"
   ]
  },
  {
   "cell_type": "markdown",
   "metadata": {},
   "source": [
    "We don't use a TF/IDF vectorizer here because we consider that the words are already filtered by importance (we only keep adjectives). For example the word 'good' appears often on positive reviews but so  we don't want its weight reduced by its commoness"
   ]
  },
  {
   "cell_type": "code",
   "execution_count": 17,
   "metadata": {},
   "outputs": [
    {
     "name": "stdout",
     "output_type": "stream",
     "text": [
      "original test:  This is the bottom line: If you like New-Wave/Electronic music of the early eighties and you had no idea who A Flock Of Seagulls were or had no way of associating them with the way they looked or their MTV status, then you would like this album. A very undderrated band for sure, this album is awesome especially for (It's Not Me) Talking, Wishing, Nightmares, and The Traveller. I'll admit the bonus B-Sides arent the greatest but the live version of I Ran is excellent and the orginal album holds up very well. I dont think its my absolute favorite but it ties with their first album( DNA and Messages are two of my favs). The guitar and keyboard sound so good together it really creates a timeless feel, even for a New Wave band. This album speaks for itsself(and its era). Do as the album title implies...good cd. Nuff said \n",
      "\n",
      "summary test:  Still cool to listen to \n",
      "\n",
      "Kept only adjectives pairs: ['like', 'like', 'awesome', 'nightmare', 'bonus', 'greatest', 'excellent', 'favorite', 'good', 'good'] \n",
      "Positive count= 9.0 Negative counts= 1.0\n",
      "Kept only adjectives pairs: ['cool'] \n",
      "Positive count= 1.0 Negative counts= 0.0\n"
     ]
    }
   ],
   "source": [
    "# create corpus (remove special characters, stop words and numbers, lemantize and remove non-english words\n",
    "#                keep only adjectves, count how many are positive and negatives, add them in the dataframe\n",
    "df=clean_filter_adj(df,summary_weight,negation_distance_threshold_review,negation_distance_threshold_summary, tester=tester)\n",
    "vectorizer = CountVectorizer(min_df=min_df)\n",
    "# not tfidf : We don't need to reduce the importance of words that appear often since they are already filtered\n",
    "\n",
    "# fit vectorizer, carry out vectorization\n",
    "vectorizer.fit(df[['reviewWorded', 'summaryWorded']].apply(lambda x: ''.join(x), axis=1)) \n",
    "documents_vec = vectorizer.transform(df['reviewWorded'])\n",
    "summaries_vec = vectorizer.transform(df['summaryWorded'])\n",
    "# We consider the summary as more important so we multiply by summary_weight\n",
    "summaries_vec*=summary_weight\n",
    "documents_vec+=summaries_vec"
   ]
  },
  {
   "cell_type": "markdown",
   "metadata": {},
   "source": [
    "### Preprocessing"
   ]
  },
  {
   "cell_type": "markdown",
   "metadata": {},
   "source": [
    "The data is Min/max scaled into [0;1] review-wise because we used a count vectorizer. It isn't standartize because we want positive values.\n",
    "\n",
    "We add to the features the number of positive and negative words in the review and summary. We also add the difference between the number of positive adjectives and negative adjectives"
   ]
  },
  {
   "cell_type": "code",
   "execution_count": 18,
   "metadata": {},
   "outputs": [
    {
     "name": "stderr",
     "output_type": "stream",
     "text": [
      "/home/adrikiri/anaconda3/lib/python3.6/site-packages/sklearn/utils/validation.py:429: DataConversionWarning: Data with input dtype int64 was converted to float64 by the normalize function.\n",
      "  warnings.warn(msg, _DataConversionWarning)\n"
     ]
    }
   ],
   "source": [
    "y=np.where(df['overall']==5,1,0)\n",
    "X_scaled=preprocessing.normalize(documents_vec,norm='max', copy=False)\n",
    "\n",
    "count_diff = csr_matrix(df['total_count_difference']).T\n",
    "count_pos_rev = csr_matrix(df['review_count_pos']).T\n",
    "count_neg_rev = csr_matrix(df['review_count_neg']).T\n",
    "count_pos_sum = csr_matrix(df['summary_count_pos']).T\n",
    "count_neg_sum = csr_matrix(df['summary_count_neg']).T\n",
    "\n",
    "X=hstack([hstack([hstack([count_diff,count_pos_rev]),hstack([count_neg_rev,count_pos_sum])])\n",
    "         ,hstack([count_neg_sum,X_scaled])])\n",
    "\n",
    "X_train, X_test, y_train, y_test = train_test_split(X, y, test_size=0.2, random_state=random_state)"
   ]
  },
  {
   "cell_type": "markdown",
   "metadata": {},
   "source": [
    "### Classifying"
   ]
  },
  {
   "cell_type": "markdown",
   "metadata": {},
   "source": [
    "#### Dummy Classifier"
   ]
  },
  {
   "cell_type": "markdown",
   "metadata": {},
   "source": [
    "Baseline model : assign the categories randomly"
   ]
  },
  {
   "cell_type": "code",
   "execution_count": 44,
   "metadata": {},
   "outputs": [
    {
     "name": "stdout",
     "output_type": "stream",
     "text": [
      "accuracy: 0.502086230876\n"
     ]
    }
   ],
   "source": [
    "dmy=DummyClassifier(random_state=random_state)\n",
    "dmy.fit(X_train,y_train)\n",
    "y_pred=dmy.predict(X_test)\n",
    "print(\"accuracy:\",accuracy_score(y_test,y_pred))"
   ]
  },
  {
   "cell_type": "markdown",
   "metadata": {},
   "source": [
    "#### Decision Trees\n",
    "\n",
    "Try various maximum depths for a classic decision tree classifier"
   ]
  },
  {
   "cell_type": "code",
   "execution_count": 14,
   "metadata": {
    "scrolled": false
   },
   "outputs": [
    {
     "name": "stderr",
     "output_type": "stream",
     "text": [
      "/home/adrikiri/project-pace-mourad/project/src/plots.py:31: FutureWarning: comparison to `None` will result in an elementwise object comparison in the future.\n",
      "  if train_scores_std != None and val_scores_std != None:\n",
      "/home/adrikiri/anaconda3/lib/python3.6/site-packages/matplotlib/font_manager.py:1297: UserWarning: findfont: Font family ['sans-serif'] not found. Falling back to DejaVu Sans\n",
      "  (prop.get_family(), self.defaultFamily[fontext]))\n"
     ]
    },
    {
     "data": {
      "image/png": "[encoded data removed]",
      "text/plain": [
       "<matplotlib.figure.Figure at 0x7f3222ec8cc0>"
      ]
     },
     "metadata": {},
     "output_type": "display_data"
    },
    {
     "name": "stdout",
     "output_type": "stream",
     "text": [
      "Best ['max_depth'] = {'max_depth': 41} with score : 0.6314\n",
      "Execution time : 92.2733268737793 seconds\n"
     ]
    },
    {
     "data": {
      "text/plain": [
       "GridSearchCV(cv=5, error_score='raise',\n",
       "       estimator=DecisionTreeClassifier(class_weight=None, criterion='gini', max_depth=None,\n",
       "            max_features=None, max_leaf_nodes=None,\n",
       "            min_impurity_split=1e-07, min_samples_leaf=1,\n",
       "            min_samples_split=2, min_weight_fraction_leaf=0.0,\n",
       "            presort=False, random_state=0, splitter='best'),\n",
       "       fit_params={}, iid=True, n_jobs=-1,\n",
       "       param_grid={'max_depth': range(1, 400, 40)},\n",
       "       pre_dispatch='2*n_jobs', refit=True, return_train_score=True,\n",
       "       scoring='accuracy', verbose=0)"
      ]
     },
     "execution_count": 14,
     "metadata": {},
     "output_type": "execute_result"
    }
   ],
   "source": [
    "# On 50000 samples\n",
    "parameter_search(DecisionTreeClassifier(random_state=random_state),\n",
    "                {'max_depth':range(1,400,40)},\n",
    "                X_train,\n",
    "                y_train,save_file=save_location+'/decision tree.png',verbose=0)"
   ]
  },
  {
   "cell_type": "markdown",
   "metadata": {},
   "source": [
    "#### KNN Neighbors"
   ]
  },
  {
   "cell_type": "markdown",
   "metadata": {},
   "source": [
    "Finding the optimal number of neighbors"
   ]
  },
  {
   "cell_type": "code",
   "execution_count": 21,
   "metadata": {
    "scrolled": false
   },
   "outputs": [
    {
     "name": "stderr",
     "output_type": "stream",
     "text": [
      "/home/adrikiri/project-pace-mourad/project/src/plots.py:31: FutureWarning: comparison to `None` will result in an elementwise object comparison in the future.\n",
      "  if train_scores_std != None and val_scores_std != None:\n",
      "/home/adrikiri/anaconda3/lib/python3.6/site-packages/matplotlib/font_manager.py:1297: UserWarning: findfont: Font family ['sans-serif'] not found. Falling back to DejaVu Sans\n",
      "  (prop.get_family(), self.defaultFamily[fontext]))\n"
     ]
    },
    {
     "data": {
      "image/png": "[encoded data removed]",
      "text/plain": [
       "<matplotlib.figure.Figure at 0x7f320cc14208>"
      ]
     },
     "metadata": {},
     "output_type": "display_data"
    },
    {
     "name": "stdout",
     "output_type": "stream",
     "text": [
      "Best ['n_neighbors'] = {'n_neighbors': 21} with score : 0.621125\n",
      "Execution time : 26.01008152961731 seconds\n"
     ]
    },
    {
     "data": {
      "text/plain": [
       "GridSearchCV(cv=5, error_score='raise',\n",
       "       estimator=KNeighborsClassifier(algorithm='auto', leaf_size=30, metric='minkowski',\n",
       "           metric_params=None, n_jobs=1, n_neighbors=5, p=2,\n",
       "           weights='uniform'),\n",
       "       fit_params={}, iid=True, n_jobs=-1,\n",
       "       param_grid={'n_neighbors': range(1, 50, 5)},\n",
       "       pre_dispatch='2*n_jobs', refit=True, return_train_score=True,\n",
       "       scoring='accuracy', verbose=0)"
      ]
     },
     "execution_count": 21,
     "metadata": {},
     "output_type": "execute_result"
    }
   ],
   "source": [
    "parameter_search(KNeighborsClassifier(),\n",
    "                {'n_neighbors':range(1,50,5)},\n",
    "                X_train,\n",
    "                y_train,save_file=save_location+'/knn.png',verbose=0)"
   ]
  },
  {
   "cell_type": "markdown",
   "metadata": {},
   "source": [
    "#### SVM\n",
    "\n",
    "Finding the best coefficient C"
   ]
  },
  {
   "cell_type": "code",
   "execution_count": 77,
   "metadata": {
    "scrolled": false
   },
   "outputs": [
    {
     "name": "stderr",
     "output_type": "stream",
     "text": [
      "/home/adrikiri/project-pace-mourad/project/src/plots.py:31: FutureWarning: comparison to `None` will result in an elementwise object comparison in the future.\n",
      "  if train_scores_std != None and val_scores_std != None:\n",
      "/home/adrikiri/anaconda3/lib/python3.6/site-packages/matplotlib/font_manager.py:1297: UserWarning: findfont: Font family ['sans-serif'] not found. Falling back to DejaVu Sans\n",
      "  (prop.get_family(), self.defaultFamily[fontext]))\n"
     ]
    },
    {
     "data": {
      "image/png": "[encoded data removed]",
      "text/plain": [
       "<matplotlib.figure.Figure at 0x7fc2ea5b32b0>"
      ]
     },
     "metadata": {},
     "output_type": "display_data"
    },
    {
     "name": "stdout",
     "output_type": "stream",
     "text": [
      "Best ['C'] = {'C': 701.70382867038222} with score : 0.71375\n",
      "Execution time : 446.31191539764404 seconds\n"
     ]
    },
    {
     "data": {
      "text/plain": [
       "GridSearchCV(cv=5, error_score='raise',\n",
       "       estimator=SVC(C=1.0, cache_size=200, class_weight=None, coef0=0.0,\n",
       "  decision_function_shape=None, degree=3, gamma='auto', kernel='rbf',\n",
       "  max_iter=-1, probability=False, random_state=None, shrinking=True,\n",
       "  tol=0.001, verbose=False),\n",
       "       fit_params={}, iid=True, n_jobs=-1,\n",
       "       param_grid={'C': array([  1.00000e-02,   3.45511e-02,   1.19378e-01,   4.12463e-01,\n",
       "         1.42510e+00,   4.92388e+00,   1.70125e+01,   5.87802e+01,\n",
       "         2.03092e+02,   7.01704e+02,   2.42446e+03,   8.37678e+03,\n",
       "         2.89427e+04,   1.00000e+05])},\n",
       "       pre_dispatch='2*n_jobs', refit=True, return_train_score=True,\n",
       "       scoring='accuracy', verbose=0)"
      ]
     },
     "execution_count": 77,
     "metadata": {},
     "output_type": "execute_result"
    }
   ],
   "source": [
    "# On 50000 samples\n",
    "parameter_search(SVC(),\n",
    "                {'C':np.logspace(-2,5,14)},\n",
    "                X_train,\n",
    "                y_train,save_file=save_location+'/svm.png',verbose=0)"
   ]
  },
  {
   "cell_type": "markdown",
   "metadata": {},
   "source": [
    "#### Logistic Regression\n",
    "\n",
    "Finding the optimal penalty coefficient C"
   ]
  },
  {
   "cell_type": "code",
   "execution_count": 27,
   "metadata": {
    "scrolled": false
   },
   "outputs": [
    {
     "name": "stderr",
     "output_type": "stream",
     "text": [
      "/home/adrikiri/project-pace-mourad/project/src/plots.py:31: FutureWarning: comparison to `None` will result in an elementwise object comparison in the future.\n",
      "  if train_scores_std != None and val_scores_std != None:\n",
      "/home/adrikiri/anaconda3/lib/python3.6/site-packages/matplotlib/font_manager.py:1297: UserWarning: findfont: Font family ['sans-serif'] not found. Falling back to DejaVu Sans\n",
      "  (prop.get_family(), self.defaultFamily[fontext]))\n"
     ]
    },
    {
     "data": {
      "image/png": "[encoded data removed]",
      "text/plain": [
       "<matplotlib.figure.Figure at 0x7fc316a1b860>"
      ]
     },
     "metadata": {},
     "output_type": "display_data"
    },
    {
     "name": "stdout",
     "output_type": "stream",
     "text": [
      "Best ['C'] = {'C': 0.59948425031894093} with score : 0.731898616799\n",
      "Execution time : 94.16306471824646 seconds\n"
     ]
    },
    {
     "data": {
      "text/plain": [
       "GridSearchCV(cv=5, error_score='raise',\n",
       "       estimator=LogisticRegression(C=1.0, class_weight=None, dual=False, fit_intercept=True,\n",
       "          intercept_scaling=1, max_iter=100, multi_class='ovr', n_jobs=1,\n",
       "          penalty='l2', random_state=None, solver='liblinear', tol=0.0001,\n",
       "          verbose=0, warm_start=False),\n",
       "       fit_params={}, iid=True, n_jobs=-1,\n",
       "       param_grid={'C': array([  1.00000e-03,   3.59381e-03,   1.29155e-02,   4.64159e-02,\n",
       "         1.66810e-01,   5.99484e-01,   2.15443e+00,   7.74264e+00,\n",
       "         2.78256e+01,   1.00000e+02])},\n",
       "       pre_dispatch='2*n_jobs', refit=True, return_train_score=True,\n",
       "       scoring='accuracy', verbose=0)"
      ]
     },
     "execution_count": 27,
     "metadata": {},
     "output_type": "execute_result"
    }
   ],
   "source": [
    "# On 10000 samples\n",
    "parameter_search(LogisticRegression(),\n",
    "                {'C':np.logspace(-3,2,10)},\n",
    "                X_train,\n",
    "                y_train, save_file=save_location+'/log_reg.png',verbose=0)"
   ]
  },
  {
   "cell_type": "markdown",
   "metadata": {},
   "source": [
    "If we pick a smaller range :"
   ]
  },
  {
   "cell_type": "code",
   "execution_count": 28,
   "metadata": {},
   "outputs": [
    {
     "name": "stderr",
     "output_type": "stream",
     "text": [
      "/home/adrikiri/project-pace-mourad/project/src/plots.py:31: FutureWarning: comparison to `None` will result in an elementwise object comparison in the future.\n",
      "  if train_scores_std != None and val_scores_std != None:\n",
      "/home/adrikiri/anaconda3/lib/python3.6/site-packages/matplotlib/font_manager.py:1297: UserWarning: findfont: Font family ['sans-serif'] not found. Falling back to DejaVu Sans\n",
      "  (prop.get_family(), self.defaultFamily[fontext]))\n"
     ]
    },
    {
     "data": {
      "image/png": "[encoded data removed]",
      "text/plain": [
       "<matplotlib.figure.Figure at 0x7fc313750390>"
      ]
     },
     "metadata": {},
     "output_type": "display_data"
    },
    {
     "name": "stdout",
     "output_type": "stream",
     "text": [
      "Best ['C'] = {'C': 0.55000000000000004} with score : 0.732091801252\n",
      "Execution time : 128.71892023086548 seconds\n"
     ]
    },
    {
     "data": {
      "text/plain": [
       "GridSearchCV(cv=5, error_score='raise',\n",
       "       estimator=LogisticRegression(C=1.0, class_weight=None, dual=False, fit_intercept=True,\n",
       "          intercept_scaling=1, max_iter=100, multi_class='ovr', n_jobs=1,\n",
       "          penalty='l2', random_state=None, solver='liblinear', tol=0.0001,\n",
       "          verbose=0, warm_start=False),\n",
       "       fit_params={}, iid=True, n_jobs=-1,\n",
       "       param_grid={'C': array([ 0.05,  0.1 ,  0.15,  0.2 ,  0.25,  0.3 ,  0.35,  0.4 ,  0.45,\n",
       "        0.5 ,  0.55,  0.6 ,  0.65,  0.7 ,  0.75,  0.8 ,  0.85,  0.9 ,\n",
       "        0.95,  1.  ,  1.05,  1.1 ,  1.15])},\n",
       "       pre_dispatch='2*n_jobs', refit=True, return_train_score=True,\n",
       "       scoring='accuracy', verbose=0)"
      ]
     },
     "execution_count": 28,
     "metadata": {},
     "output_type": "execute_result"
    }
   ],
   "source": [
    "parameter_search(LogisticRegression(),\n",
    "                {'C':np.arange(0.05,1.2,0.05)},\n",
    "                X_train,\n",
    "                y_train, save_file=save_location+'/log_reg_more accurate.png',verbose=0)"
   ]
  },
  {
   "cell_type": "code",
   "execution_count": 45,
   "metadata": {},
   "outputs": [
    {
     "name": "stdout",
     "output_type": "stream",
     "text": [
      "Accuracy score: 0.736594034925\n"
     ]
    }
   ],
   "source": [
    "log_reg=LogisticRegression(C=0.55)\n",
    "log_reg.fit(X_train,y_train)\n",
    "y_pred=log_reg.predict(X_test)\n",
    "print('Accuracy score:',accuracy_score(y_test,y_pred))"
   ]
  },
  {
   "cell_type": "markdown",
   "metadata": {},
   "source": [
    "### Prediction of unseen data"
   ]
  },
  {
   "cell_type": "code",
   "execution_count": 48,
   "metadata": {},
   "outputs": [
    {
     "name": "stdout",
     "output_type": "stream",
     "text": [
      "original test:  sounds more like a calmer cube than the &quot;war&quot; disc, and  everything else before that. I rated this cd 3 stars because I'm a big fan  of Cube's work since the n.w.a. projects as well as his solo stuff,  westside connection, etc. I took off two stars because the production on a  lot of the tracks could've been better. It's still a good buy to add to  your collections &amp; cd changers. I wish cube much success on his Lp, and  hopefully we can expect some raw &amp; roughness on the new n.w.a. cd along  with the rest of the gang. Keep on representin' fo the west coast. Peace  Out &amp; God Bless. \n",
      "\n",
      "summary test:  Ice Cube's &quot;peace&quot; disc... \n",
      "\n",
      "Kept only adjectives pairs: ['like', 'work', 'better', 'good', 'success', 'peace', 'bless'] \n",
      "Positive count= 7.0 Negative counts= 0.0\n",
      "Kept only adjectives pairs: [] \n",
      "Positive count= 0.0 Negative counts= 0.0\n"
     ]
    },
    {
     "name": "stderr",
     "output_type": "stream",
     "text": [
      "/home/adrikiri/anaconda3/lib/python3.6/site-packages/sklearn/utils/validation.py:429: DataConversionWarning: Data with input dtype int64 was converted to float64 by the normalize function.\n",
      "  warnings.warn(msg, _DataConversionWarning)\n"
     ]
    }
   ],
   "source": [
    "# data loading\n",
    "df_unseen= pd.read_csv(filepath_or_buffer='amazon_step2_unseen.csv')\n",
    "original_columns=df_unseen.columns\n",
    "\n",
    "# create corpus (remove special characters, stop words and numbers, lemantize and remove non-english words\n",
    "#                keep only adjectves, count how many are positive and negatives, add them in the dataframe\n",
    "df_unseen=clean_filter_adj(df_unseen,summary_weight,negation_distance_threshold_review,negation_distance_threshold_summary, tester=tester)\n",
    "\n",
    "# carry out vectorization\n",
    "documents_vec_unseen = vectorizer.transform(df_unseen['reviewWorded'])\n",
    "summaries_vec = vectorizer.transform(df_unseen['summaryWorded'])\n",
    "# We consider the summary as more important so we multiply by summary_weight\n",
    "summaries_vec*=summary_weight\n",
    "documents_vec_unseen+=summaries_vec\n",
    "\n",
    "\n",
    "# Scaling and grouping features\n",
    "X_scaled=preprocessing.normalize(documents_vec_unseen,norm='max', copy=False)\n",
    "count_diff = csr_matrix(df_unseen['total_count_difference']).T\n",
    "count_pos_rev = csr_matrix(df_unseen['review_count_pos']).T\n",
    "count_neg_rev = csr_matrix(df_unseen['review_count_neg']).T\n",
    "count_pos_sum = csr_matrix(df_unseen['summary_count_pos']).T\n",
    "count_neg_sum = csr_matrix(df_unseen['summary_count_neg']).T\n",
    "\n",
    "X_unseen=hstack([hstack([hstack([count_diff,count_pos_rev]),hstack([count_neg_rev,count_pos_sum])])\n",
    "         ,hstack([count_neg_sum,X_scaled])])\n",
    "\n",
    "clf=LogisticRegression(C=0.55)\n",
    "clf.fit(X,y)\n",
    "df_unseen['label']=clf.predict(X_unseen)\n",
    "df_unseen[original_columns].to_csv('amazon_step2_unseen.csv')"
   ]
  },
  {
   "cell_type": "markdown",
   "metadata": {
    "collapsed": true
   },
   "source": [
    "### Conclusion "
   ]
  },
  {
   "cell_type": "markdown",
   "metadata": {
    "collapsed": true
   },
   "source": [
    "As we can see the logistic regression still offer us the best accuracy in predicting whether a review is 5 or not. Even though we have an accuracy similar to step 1, we could consider it a lot less powerful since it only 2 class to classify compared to 24 in step 1. One of the possible reasons is that user might rate a product 5 stars and just say 'good product' because he hasn't a lot of time. Another user might rate 3-4 stars with exactly same text because for him it's just good."
   ]
  },
  {
   "cell_type": "markdown",
   "metadata": {},
   "source": [
    "#### Possible ameliorations"
   ]
  },
  {
   "cell_type": "markdown",
   "metadata": {},
   "source": [
    "We could have the same ameliorations as in step 1 by trying SVC with a bigger sample size. Also it might be possible to maybe assign to each adjective a weight depending on whether it's a powerful adjective or not. ('Excellent product' vs 'good product')"
   ]
  },
  {
   "cell_type": "markdown",
   "metadata": {},
   "source": [
    "## Step 3"
   ]
  },
  {
   "cell_type": "markdown",
   "metadata": {},
   "source": [
    "In this step, we will use the same data as in step2. However it is a regression problem this time."
   ]
  },
  {
   "cell_type": "markdown",
   "metadata": {},
   "source": [
    "### Constants"
   ]
  },
  {
   "cell_type": "code",
   "execution_count": 49,
   "metadata": {
    "collapsed": true
   },
   "outputs": [],
   "source": [
    "save_location='ouput_figs3'"
   ]
  },
  {
   "cell_type": "markdown",
   "metadata": {},
   "source": [
    "### Preprocessing"
   ]
  },
  {
   "cell_type": "markdown",
   "metadata": {},
   "source": [
    "We keep the same data for training"
   ]
  },
  {
   "cell_type": "code",
   "execution_count": 57,
   "metadata": {
    "collapsed": true
   },
   "outputs": [],
   "source": [
    "y=df['overall']\n",
    "X_train, X_test, y_train, y_test = train_test_split(X, y, test_size=0.2, random_state=random_state)"
   ]
  },
  {
   "cell_type": "markdown",
   "metadata": {},
   "source": [
    "### Regression"
   ]
  },
  {
   "cell_type": "markdown",
   "metadata": {},
   "source": [
    "#### Dummy Regressor"
   ]
  },
  {
   "cell_type": "markdown",
   "metadata": {},
   "source": [
    "Baseline model : assign the rating randomly"
   ]
  },
  {
   "cell_type": "code",
   "execution_count": 58,
   "metadata": {},
   "outputs": [
    {
     "name": "stdout",
     "output_type": "stream",
     "text": [
      "mean_absolute_error: 0.846140271365\n",
      "rounded mean_absolute_error 0.865554010199\n"
     ]
    }
   ],
   "source": [
    "dmy=DummyRegressor()\n",
    "dmy.fit(X_train,y_train)\n",
    "y_pred=dmy.predict(X_test)\n",
    "print(\"mean_absolute_error:\",mean_absolute_error(y_test,y_pred))\n",
    "y_pred=np.round(y_pred)\n",
    "y_pred=np.where(y_pred>5,5,y_pred)\n",
    "y_pred=np.where(y_pred<1,1,y_pred)\n",
    "print(\"rounded mean_absolute_error\",mean_absolute_error(y_test,y_pred))"
   ]
  },
  {
   "cell_type": "markdown",
   "metadata": {},
   "source": [
    "#### Ridge Regression"
   ]
  },
  {
   "cell_type": "code",
   "execution_count": 66,
   "metadata": {
    "scrolled": false
   },
   "outputs": [
    {
     "name": "stderr",
     "output_type": "stream",
     "text": [
      "/home/adrikiri/project-pace-mourad/project/src/plots.py:31: FutureWarning: comparison to `None` will result in an elementwise object comparison in the future.\n",
      "  if train_scores_std != None and val_scores_std != None:\n",
      "/home/adrikiri/anaconda3/lib/python3.6/site-packages/matplotlib/font_manager.py:1297: UserWarning: findfont: Font family ['sans-serif'] not found. Falling back to DejaVu Sans\n",
      "  (prop.get_family(), self.defaultFamily[fontext]))\n"
     ]
    },
    {
     "data": {
      "image/png": "[encoded data removed]",
      "text/plain": [
       "<matplotlib.figure.Figure at 0x7fc317064d68>"
      ]
     },
     "metadata": {},
     "output_type": "display_data"
    },
    {
     "name": "stdout",
     "output_type": "stream",
     "text": [
      "Best ['alpha'] = {'alpha': 0.0035938136638046258} with score : -0.660287083618\n",
      "Execution time : 100.1782877445221 seconds\n"
     ]
    },
    {
     "data": {
      "text/plain": [
       "GridSearchCV(cv=5, error_score='raise',\n",
       "       estimator=Ridge(alpha=1.0, copy_X=True, fit_intercept=True, max_iter=None,\n",
       "   normalize=False, random_state=None, solver='auto', tol=0.001),\n",
       "       fit_params={}, iid=True, n_jobs=-1,\n",
       "       param_grid={'alpha': array([  1.00000e-03,   3.59381e-03,   1.29155e-02,   4.64159e-02,\n",
       "         1.66810e-01,   5.99484e-01,   2.15443e+00,   7.74264e+00,\n",
       "         2.78256e+01,   1.00000e+02])},\n",
       "       pre_dispatch='2*n_jobs', refit=True, return_train_score=True,\n",
       "       scoring='neg_mean_absolute_error', verbose=0)"
      ]
     },
     "execution_count": 66,
     "metadata": {},
     "output_type": "execute_result"
    }
   ],
   "source": [
    "parameter_search(Ridge(),\n",
    "                {'alpha':np.logspace(-3,2,10)},\n",
    "                X_train,\n",
    "                np.array(y_train), save_file=save_location+'/ridge.png',scoring='neg_mean_absolute_error',verbose=0)"
   ]
  },
  {
   "cell_type": "markdown",
   "metadata": {},
   "source": [
    "#### Least Square"
   ]
  },
  {
   "cell_type": "code",
   "execution_count": 59,
   "metadata": {},
   "outputs": [
    {
     "name": "stdout",
     "output_type": "stream",
     "text": [
      "Mean CV valdiation score: -0.698652660214\n"
     ]
    }
   ],
   "source": [
    "ls=LinearRegression()\n",
    "print(\"Mean CV valdiation score:\",np.mean(cross_val_score(\n",
    "    ls,X_train,y_train,scoring='neg_mean_absolute_error',cv=5,verbose=0,n_jobs=-1)))"
   ]
  },
  {
   "cell_type": "code",
   "execution_count": 68,
   "metadata": {},
   "outputs": [
    {
     "name": "stdout",
     "output_type": "stream",
     "text": [
      "MAE 0.648364078653\n",
      "MAE after rounding 0.598748261474\n"
     ]
    }
   ],
   "source": [
    "ls=Ridge(alpha=0.00359)\n",
    "ls.fit(X_train,y_train)\n",
    "y_pred=ls.predict(X_test)\n",
    "print(\"MAE\",mean_absolute_error(y_test,y_pred))\n",
    "y_pred=np.round(y_pred)\n",
    "y_pred=np.where(y_pred>5,5,y_pred)\n",
    "y_pred=np.where(y_pred<1,1,y_pred)\n",
    "print(\"MAE after rounding\",mean_absolute_error(y_test,y_pred))"
   ]
  },
  {
   "cell_type": "markdown",
   "metadata": {},
   "source": [
    "As we can see we get less error by rounding to the closest integer. This is probably because our regressor predict something close to the rating such as 2.8 for 3. So by rounding, we remove this error. It is however worse if we predict 2.2 instead of 3. Overall it improves our MAE."
   ]
  },
  {
   "cell_type": "markdown",
   "metadata": {},
   "source": [
    "### Prediction of unseen data"
   ]
  },
  {
   "cell_type": "code",
   "execution_count": 69,
   "metadata": {},
   "outputs": [
    {
     "name": "stdout",
     "output_type": "stream",
     "text": [
      "original test:  sounds more like a calmer cube than the &quot;war&quot; disc, and  everything else before that. I rated this cd 3 stars because I'm a big fan  of Cube's work since the n.w.a. projects as well as his solo stuff,  westside connection, etc. I took off two stars because the production on a  lot of the tracks could've been better. It's still a good buy to add to  your collections &amp; cd changers. I wish cube much success on his Lp, and  hopefully we can expect some raw &amp; roughness on the new n.w.a. cd along  with the rest of the gang. Keep on representin' fo the west coast. Peace  Out &amp; God Bless. \n",
      "\n",
      "summary test:  Ice Cube's &quot;peace&quot; disc... \n",
      "\n",
      "Kept only adjectives pairs: ['like', 'work', 'better', 'good', 'success', 'peace', 'bless'] \n",
      "Positive count= 7.0 Negative counts= 0.0\n",
      "Kept only adjectives pairs: [] \n",
      "Positive count= 0.0 Negative counts= 0.0\n"
     ]
    },
    {
     "name": "stderr",
     "output_type": "stream",
     "text": [
      "/home/adrikiri/anaconda3/lib/python3.6/site-packages/sklearn/utils/validation.py:429: DataConversionWarning: Data with input dtype int64 was converted to float64 by the normalize function.\n",
      "  warnings.warn(msg, _DataConversionWarning)\n"
     ]
    }
   ],
   "source": [
    "# data loading\n",
    "df_unseen= pd.read_csv(filepath_or_buffer='amazon_step3_unseen.csv')\n",
    "original_columns=df_unseen.columns\n",
    "\n",
    "# create corpus (remove special characters, stop words and numbers, lemantize and remove non-english words\n",
    "#                keep only adjectves, count how many are positive and negatives, add them in the dataframe\n",
    "df_unseen=clean_filter_adj(df_unseen,summary_weight,negation_distance_threshold_review,negation_distance_threshold_summary, tester=tester)\n",
    "\n",
    "# fit vectorizer, carry out vectorization\n",
    "documents_vec_unseen = vectorizer.transform(df_unseen['reviewWorded'])\n",
    "summaries_vec = vectorizer.transform(df_unseen['summaryWorded'])\n",
    "# We consider the summary as more important so we multiply by summary_weight\n",
    "summaries_vec*=summary_weight\n",
    "documents_vec_unseen+=summaries_vec\n",
    "\n",
    "\n",
    "# Scaling and grouping features\n",
    "X_scaled=preprocessing.normalize(documents_vec_unseen,norm='max', copy=False)\n",
    "count_diff = csr_matrix(df_unseen['total_count_difference']).T\n",
    "count_pos_rev = csr_matrix(df_unseen['review_count_pos']).T\n",
    "count_neg_rev = csr_matrix(df_unseen['review_count_neg']).T\n",
    "count_pos_sum = csr_matrix(df_unseen['summary_count_pos']).T\n",
    "count_neg_sum = csr_matrix(df_unseen['summary_count_neg']).T\n",
    "\n",
    "X_unseen=hstack([hstack([hstack([count_diff,count_pos_rev]),hstack([count_neg_rev,count_pos_sum])])\n",
    "         ,hstack([count_neg_sum,X_scaled])])\n",
    "\n",
    "\n",
    "clf=Ridge(alpha=0.00359)\n",
    "clf.fit(X,y)\n",
    "df_unseen['label']=clf.predict(X_unseen)\n",
    "df_unseen['label']=np.round(df_unseen['label'])\n",
    "df_unseen['label']=np.where(df_unseen['label']>5,5,df_unseen['label'])\n",
    "df_unseen['label']=np.where(df_unseen['label']<1,1,df_unseen['label'])\n",
    "df_unseen[original_columns].to_csv('amazon_step3_unseen.csv')"
   ]
  },
  {
   "cell_type": "markdown",
   "metadata": {
    "collapsed": true
   },
   "source": [
    "### Conclusion "
   ]
  },
  {
   "cell_type": "markdown",
   "metadata": {
    "collapsed": true
   },
   "source": [
    "Here least gives us the best MAE. However is worth noting that while it gives us a MAE of 0.6, the dummy regressor yields us a MAE of 0.85 so it is not a great prediction."
   ]
  },
  {
   "cell_type": "markdown",
   "metadata": {},
   "source": [
    "#### Possible ameliorations"
   ]
  },
  {
   "cell_type": "markdown",
   "metadata": {},
   "source": [
    "There is of course a lot of room for improvement as we see. We were thinking about trying a neural net with Tensorflow."
   ]
  }
 ],
 "metadata": {
  "kernelspec": {
   "display_name": "Python 3",
   "language": "python",
   "name": "python3"
  },
  "language_info": {
   "codemirror_mode": {
    "name": "ipython",
    "version": 3
   },
   "file_extension": ".py",
   "mimetype": "text/x-python",
   "name": "python",
   "nbconvert_exporter": "python",
   "pygments_lexer": "ipython3",
   "version": "3.6.2"
  }
 },
 "nbformat": 4,
 "nbformat_minor": 2
}
